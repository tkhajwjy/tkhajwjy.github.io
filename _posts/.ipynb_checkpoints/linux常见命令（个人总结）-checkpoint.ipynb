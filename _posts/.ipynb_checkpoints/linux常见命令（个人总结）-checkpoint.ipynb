{
 "cells": [
  {
   "cell_type": "markdown",
   "metadata": {},
   "source": [
    "## 1.连接服务器`ssh`\n",
    "\n",
    "**ssh `user_name@ip`**\n",
    "\n",
    ">ssh julyedu_457918@101.132.121.198\n",
    "\n",
    "passwords:e887d10a"
   ]
  },
  {
   "cell_type": "markdown",
   "metadata": {},
   "source": [
    "## 2.本地上传服务器`scp`\n",
    "\n",
    "<font color='red'>文件夹要**-r**</font>\n",
    "注意在本地命令行输入，不要在服务器上执行\n",
    "\n",
    "**scp -r `local_path/file_name`    `user_name`@`ip` :`des_path`**\n"
   ]
  },
  {
   "cell_type": "markdown",
   "metadata": {},
   "source": [
    "从服务器下载文件到本地\n",
    "\n",
    "**scp -r    `user_name`@`ip` :`des_path` `local_path/file_name`**"
   ]
  },
  {
   "cell_type": "markdown",
   "metadata": {},
   "source": [
    ">scp  -r ~/Documents/NER julyedu_457918@101.132.121.198:/home/julyedu_457918 \n"
   ]
  },
  {
   "cell_type": "markdown",
   "metadata": {},
   "source": [
    ">scp -r julyedu_457918@101.132.121.198:/New_User/data_store/NER /Users/wujiaoyu/Documents/study"
   ]
  },
  {
   "cell_type": "markdown",
   "metadata": {},
   "source": [
    "## 3.后台运行"
   ]
  },
  {
   "cell_type": "markdown",
   "metadata": {},
   "source": [
    "nohup ./xyz.sh >xyz.log 2>&1 &"
   ]
  },
  {
   "cell_type": "markdown",
   "metadata": {},
   "source": [
    "* train\n",
    "\n",
    "python3 main.py --mode=train\n",
    "\n",
    "\n",
    "\n",
    "* test\n",
    "\n",
    "python3 main.py --mode=test --demo_model=1521112368\n",
    "\n",
    "* demo\n",
    "\n",
    "python3 main.py --mode=demo --demo_model=1521112368"
   ]
  },
  {
   "cell_type": "markdown",
   "metadata": {},
   "source": [
    "**后台train**\n",
    "\n",
    "nohup python3 main.py --mode=train >ner_1220.log 2>&1 &\n",
    "\n",
    "tail -f ner_1220.log\n",
    "\n",
    "nohup python3 main.py --mode=test --demo_model=1521112368 >test_ner.log 2>&1 &"
   ]
  },
  {
   "cell_type": "markdown",
   "metadata": {},
   "source": [
    "|编号|英文|中文|\n",
    "| :----: | :---: | :---: | \n",
    "| 0 | STDIN_FILENO | 标准输入（一般是键盘）\n",
    "|1 |STDOUT_FILENO |标准输出（一般是显示屏，准确的说是用户终端控制台）\n",
    "|2 |STDERR_FILENO |标准错误（出错信息输出）"
   ]
  },
  {
   "cell_type": "markdown",
   "metadata": {},
   "source": [
    "2>&1就是用来将标准错误2重定向到标准输出1中的。此处1前面的&就是为了让bash将1解释成标准输出而不是文件1。至于最后一个&，则是让bash在后台执行。"
   ]
  },
  {
   "cell_type": "markdown",
   "metadata": {},
   "source": [
    "## 4.查看哪些在用gpu"
   ]
  },
  {
   "cell_type": "markdown",
   "metadata": {},
   "source": [
    "nvidia-smi -q -d PIDS | grep 'Process ID' | awk '{print $4}'|sed -e ':a;N;s/\\n/,/;ta' | xargs -I {} ps -p '{}' -o ruser=userForLongName -o pid,ppid,c,stime,etime,tty,time,cmd,pcpu,pmem,vsz,rss"
   ]
  },
  {
   "cell_type": "markdown",
   "metadata": {},
   "source": [
    "## 5.杀死进程\n",
    "kill -s 9 进程id\n",
    "\n"
   ]
  },
  {
   "cell_type": "markdown",
   "metadata": {},
   "source": [
    "## 6.退出tail、cat\n",
    "ctrl+c/z"
   ]
  },
  {
   "cell_type": "markdown",
   "metadata": {},
   "source": [
    "## 7.看磁盘\n",
    "df -h"
   ]
  },
  {
   "cell_type": "markdown",
   "metadata": {},
   "source": [
    "## 8.查看历史\n",
    "history | grep \"scp\""
   ]
  },
  {
   "cell_type": "markdown",
   "metadata": {},
   "source": [
    "find 路径 -name=‘文件名’"
   ]
  }
 ],
 "metadata": {
  "kernelspec": {
   "display_name": "Python 3",
   "language": "python",
   "name": "python3"
  },
  "language_info": {
   "codemirror_mode": {
    "name": "ipython",
    "version": 3
   },
   "file_extension": ".py",
   "mimetype": "text/x-python",
   "name": "python",
   "nbconvert_exporter": "python",
   "pygments_lexer": "ipython3",
   "version": "3.6.8"
  }
 },
 "nbformat": 4,
 "nbformat_minor": 2
}
